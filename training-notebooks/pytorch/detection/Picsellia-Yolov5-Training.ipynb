{
 "cells": [
  {
   "cell_type": "markdown",
   "metadata": {},
   "source": [
    "[![Open In Colab](https://colab.research.google.com/assets/colab-badge.svg)](https://colab.research.google.com/github/PicselliaTeam/picsellia-notebooks/blob/master/training-notebooks/pytorch/detection/Picsellia-Yolov5-Training.ipynb)"
   ]
  },
  {
   "cell_type": "code",
   "execution_count": 1,
   "metadata": {},
   "outputs": [
    {
     "name": "stdout",
     "output_type": "stream",
     "text": []
    }
   ],
   "source": [
    "!pip install picsellia_yolov5\n",
    "!pip install picsellia"
   ]
  },
  {
   "cell_type": "markdown",
   "metadata": {},
   "source": [
    "🥑 **Welcome To Picsellia Training Quickstart Notebook for YOLOv5** 🥑\n",
    "\n",
    "In this Notebook, you will see how to launch a YOLOv5 training from a created experiment on the Platform and log all the evaluation metrics to analyse your trained model.\n",
    "\n",
    "**Step 1, let's import our python SDK and our tensorflow2 wrapper** \n",
    "\n",
    "If you do not have our packages you can run: \n",
    "- `pip install picsellia picsellia_yolov5` \n",
    "\n",
    "\n",
    "> This notebook is an `easy mode` for YOLOv5 Training, you don't have to worry about nothing"
   ]
  },
  {
   "cell_type": "code",
   "execution_count": 1,
   "metadata": {},
   "outputs": [
    {
     "name": "stdout",
     "output_type": "stream",
     "text": [
      "Error while loading conf file for logging. No logging done.\n"
     ]
    }
   ],
   "source": [
    "from picsellia import Client\n",
    "from picsellia_yolov5.utils import to_yolo, find_matching_annotations, edit_model_yaml, generate_yaml, Opt, setup_hyp\n",
    "from picsellia_yolov5.utils import send_run_to_picsellia\n",
    "from picsellia_yolov5.yolov5.train import train"
   ]
  },
  {
   "cell_type": "markdown",
   "metadata": {},
   "source": [
    "**Step 2, fetch your experiment parameters and files from the Picsellia servers**\n",
    "\n",
    "Every experiment you make has an unique identifier allowing you to retrieve all the necessary informations with one command.\n",
    "\n",
    "By passing `tree` and `with_files` to True, you will automatically get a folder architecture like:\n",
    "\n",
    "- `experiment_name`/\n",
    "    - checkpoint/\n",
    "    - config/\n",
    "    - exported_model/\n",
    "    - images/\n",
    "    - metrics/\n",
    "    - records/\n",
    "    - results/"
   ]
  },
  {
   "cell_type": "code",
   "execution_count": null,
   "metadata": {},
   "outputs": [],
   "source": [
    "api_token = ''\n",
    "project_name = ''\n",
    "experiment_name = ''\n",
    "\n",
    "client = Client(\n",
    "    api_token=api_token,\n",
    "    organization=None # Set to an organization name if you want to checkout an other org.\n",
    ")\n",
    "\n",
    "project= client.get_project(project_name)\n",
    "\n",
    "experiment = project.get_experiment(\n",
    "    name=experiment_name, \n",
    "    tree=True, \n",
    "    with_artifacts=True\n",
    ")"
   ]
  },
  {
   "cell_type": "markdown",
   "metadata": {},
   "source": [
    "**Step 3, Dataset fetching** \n",
    "\n",
    "Download all the necessary data for your training:\n",
    "- Dataset\n",
    "- Annotations\n",
    "\n",
    "Then generate the labelmap for your model, `labelmap` is needed for Picsellia to map your verbose labels *(i.e \"cat\", \"dog\", \"hot-dog\")* to your categorical labels *(i.e 1, 2, 3)*.\n",
    "\n",
    ">\n",
    "> You can find more info about the labelmap format [here](https://google.com)\n",
    ">\n",
    "\n",
    "Finally performing train-test-split to perform training, `train_test_split`  is recommended to be stored inside Picsellia, this way you will be able to access the validation interface and have full visibility over your training data 👊\n",
    "\n",
    "If you want to know more about our train_test_split format, here is the [documentation page](https://google.com)\n",
    "**(default repartition is 0.8 / 0.2 from train/test)**\n",
    "\n",
    "Once the train test set created, we send the repartition to Picsellia platform in order to visualize it later.\n"
   ]
  },
  {
   "cell_type": "code",
   "execution_count": null,
   "metadata": {},
   "outputs": [],
   "source": [
    "experiment.download_annotations()\n",
    "experiment.download_pictures()\n",
    "experiment.generate_labelmap()\n",
    "experiment.log('labelmap', experiment.label_map, 'labelmap', replace=True)\n",
    "\n",
    "YOLODIR = 'YOLO-{}'.format(experiment_name)\n",
    "train_set, test_set = to_yolo(pxl_annotations_dict=experiment.dict_annotations,labelmap=experiment.label_map, base_imgdir=experiment.png_dir, targetdir=YOLODIR, prop=0.7, copy_image=False) \n",
    "\n",
    "train_split = {\n",
    "    'x': train_set[\"categories\"],\n",
    "    'y': train_set[\"train_repartition\"],\n",
    "    'image_list': train_set[\"image_list\"],\n",
    "}\n",
    "experiment.log('train-split', train_split, 'bar', replace=True)\n",
    "\n",
    "test_split = {\n",
    "    'x': test_set[\"categories\"],\n",
    "    'y': test_set[\"train_repartition\"],\n",
    "    'image_list': test_set[\"image_list\"],\n",
    "}\n",
    "experiment.log('test-split', test_split, 'bar', replace=True)"
   ]
  },
  {
   "cell_type": "markdown",
   "metadata": {},
   "source": [
    "**Step 4, Pre-processing**\n",
    "\n",
    "We provide wrapper functions to generate the config `.yaml` file needed by YOLOv5 github repo.\n",
    "\n"
   ]
  },
  {
   "cell_type": "code",
   "execution_count": null,
   "metadata": {},
   "outputs": [],
   "source": [
    "generate_yaml(\n",
    "    yamlname=experiment_name,\n",
    "    targetdir=YOLODIR,\n",
    "    labelmap=experiment.label_map\n",
    ")\n",
    "cfg = edit_model_yaml(\n",
    "    label_map=experiment.label_map,\n",
    "    experiment_name=experiment_name,\n",
    "    config_path=experiment.config_dir\n",
    "\n",
    ")\n",
    "hyp, opt, device = setup_hyp(\n",
    "    experiment_name, \n",
    "    cfg,\n",
    "    experiment.checkpoint_dir,\n",
    "    experiment.get_log('parameters'),\n",
    "    experiment.label_map\n",
    ")"
   ]
  },
  {
   "cell_type": "markdown",
   "metadata": {},
   "source": [
    "**Step 5 - Launch training 🚀**"
   ]
  },
  {
   "cell_type": "code",
   "execution_count": null,
   "metadata": {},
   "outputs": [],
   "source": [
    "train(hyp, opt, opt.device, pxl=experiment)"
   ]
  },
  {
   "cell_type": "markdown",
   "metadata": {},
   "source": [
    "**Step 6 - Store your trained Model in Picsellia to use it later 🥑**"
   ]
  },
  {
   "cell_type": "code",
   "execution_count": null,
   "metadata": {},
   "outputs": [],
   "source": [
    "send_run_to_picsellia(experiment, YOLODIR)"
   ]
  }
 ],
 "metadata": {
  "interpreter": {
   "hash": "37893fbdeed58c473b2ed43fc8a6b66619286944a7160f289a229fff5cbf7832"
  },
  "kernelspec": {
   "display_name": "Python 3.8.10 ('build-torch')",
   "language": "python",
   "name": "python3"
  },
  "language_info": {
   "codemirror_mode": {
    "name": "ipython",
    "version": 3
   },
   "file_extension": ".py",
   "mimetype": "text/x-python",
   "name": "python",
   "nbconvert_exporter": "python",
   "pygments_lexer": "ipython3",
   "version": "3.8.10"
  },
  "orig_nbformat": 2
 },
 "nbformat": 4,
 "nbformat_minor": 2
}
