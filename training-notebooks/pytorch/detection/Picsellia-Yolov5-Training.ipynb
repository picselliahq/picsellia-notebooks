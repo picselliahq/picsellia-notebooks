{
 "cells": [
  {
   "cell_type": "markdown",
   "metadata": {},
   "source": [
    "[![Open In Colab](https://colab.research.google.com/assets/colab-badge.svg)](https://colab.research.google.com/github/PicselliaTeam/picsellia-training-engine/blob/master/Picsellia-Yolov5-Training.ipynb)"
   ]
  },
  {
   "cell_type": "code",
   "execution_count": 1,
   "metadata": {},
   "outputs": [
    {
     "name": "stdout",
     "output_type": "stream",
     "text": [
      "Collecting picsellia_yolov5\n",
      "  Downloading picsellia_yolov5-0.1.9-py3-none-any.whl (98 kB)\n",
      "\u001b[2K     \u001b[90m━━━━━━━━━━━━━━━━━━━━━━━━━━━━━━━━━━━━━━━━\u001b[0m \u001b[32m98.2/98.2 KB\u001b[0m \u001b[31m5.5 MB/s\u001b[0m eta \u001b[36m0:00:00\u001b[0m\n",
      "\u001b[?25hCollecting pandas<=1.1.5\n",
      "  Using cached pandas-1.1.5-cp38-cp38-manylinux1_x86_64.whl (9.3 MB)\n",
      "Collecting PyYAML>=5.3.1\n",
      "  Using cached PyYAML-6.0-cp38-cp38-manylinux_2_5_x86_64.manylinux1_x86_64.manylinux_2_12_x86_64.manylinux2010_x86_64.whl (701 kB)\n",
      "Collecting Cython==0.29.21\n",
      "  Using cached Cython-0.29.21-cp38-cp38-manylinux1_x86_64.whl (1.9 MB)\n",
      "Collecting scipy==1.4.1\n",
      "  Using cached scipy-1.4.1-cp38-cp38-manylinux1_x86_64.whl (26.0 MB)\n",
      "Collecting pillow==7.2.0\n",
      "  Using cached Pillow-7.2.0-cp38-cp38-manylinux1_x86_64.whl (2.2 MB)\n",
      "Collecting tqdm>=4.41.0\n",
      "  Using cached tqdm-4.62.3-py2.py3-none-any.whl (76 kB)\n",
      "Collecting ruamel.yaml==0.16.13\n",
      "  Downloading ruamel.yaml-0.16.13-py2.py3-none-any.whl (111 kB)\n",
      "\u001b[2K     \u001b[90m━━━━━━━━━━━━━━━━━━━━━━━━━━━━━━━━━━━━━━\u001b[0m \u001b[32m111.9/111.9 KB\u001b[0m \u001b[31m15.9 MB/s\u001b[0m eta \u001b[36m0:00:00\u001b[0m\n",
      "\u001b[?25hCollecting torch>=1.7.0\n",
      "  Downloading torch-1.10.2-cp38-cp38-manylinux1_x86_64.whl (881.9 MB)\n",
      "\u001b[2K     \u001b[90m━━━━━━━━━━━━━━━━━━━━━━━━━━━━━━━━━━━━━━━\u001b[0m \u001b[32m881.9/881.9 MB\u001b[0m \u001b[31m2.2 MB/s\u001b[0m eta \u001b[36m0:00:00\u001b[0m00:01\u001b[0m00:01\u001b[0m\n",
      "\u001b[?25hCollecting matplotlib==3.3.4\n",
      "  Using cached matplotlib-3.3.4-cp38-cp38-manylinux1_x86_64.whl (11.6 MB)\n",
      "Collecting thop==0.0.31-2005241907\n",
      "  Downloading thop-0.0.31.post2005241907-py3-none-any.whl (8.7 kB)\n",
      "Collecting opencv-python>=4.1.2\n",
      "  Using cached opencv_python-4.5.5.62-cp36-abi3-manylinux_2_17_x86_64.manylinux2014_x86_64.whl (60.4 MB)\n",
      "Collecting pycocotools==2.0.2\n",
      "  Using cached pycocotools-2.0.2-cp38-cp38-linux_x86_64.whl\n",
      "Collecting seaborn>=0.11.0\n",
      "  Downloading seaborn-0.11.2-py3-none-any.whl (292 kB)\n",
      "\u001b[2K     \u001b[90m━━━━━━━━━━━━━━━━━━━━━━━━━━━━━━━━━━━━━━\u001b[0m \u001b[32m292.8/292.8 KB\u001b[0m \u001b[31m46.1 MB/s\u001b[0m eta \u001b[36m0:00:00\u001b[0m\n",
      "\u001b[?25hCollecting torchvision>=0.8.1\n",
      "  Downloading torchvision-0.11.3-cp38-cp38-manylinux1_x86_64.whl (23.2 MB)\n",
      "\u001b[2K     \u001b[90m━━━━━━━━━━━━━━━━━━━━━━━━━━━━━━━━━━━━━━━━\u001b[0m \u001b[32m23.2/23.2 MB\u001b[0m \u001b[31m55.1 MB/s\u001b[0m eta \u001b[36m0:00:00\u001b[0m00:01\u001b[0m00:01\u001b[0m\n",
      "\u001b[?25hCollecting lvis==0.5.3\n",
      "  Using cached lvis-0.5.3-py3-none-any.whl (14 kB)\n",
      "Collecting tensorboard>=2.2\n",
      "  Using cached tensorboard-2.8.0-py3-none-any.whl (5.8 MB)\n",
      "Requirement already satisfied: six>=1.12.0 in /home/ubuntu/.virtualenvs/build-torch/lib/python3.8/site-packages (from lvis==0.5.3->picsellia_yolov5) (1.16.0)\n",
      "Collecting cycler>=0.10.0\n",
      "  Using cached cycler-0.11.0-py3-none-any.whl (6.4 kB)\n",
      "Collecting kiwisolver>=1.1.0\n",
      "  Using cached kiwisolver-1.3.2-cp38-cp38-manylinux_2_5_x86_64.manylinux1_x86_64.whl (1.2 MB)\n",
      "Collecting pyparsing>=2.4.0\n",
      "  Using cached pyparsing-3.0.7-py3-none-any.whl (98 kB)\n",
      "Requirement already satisfied: python-dateutil>=2.8.0 in /home/ubuntu/.virtualenvs/build-torch/lib/python3.8/site-packages (from lvis==0.5.3->picsellia_yolov5) (2.8.2)\n",
      "Collecting numpy>=1.18.2\n",
      "  Using cached numpy-1.22.2-cp38-cp38-manylinux_2_17_x86_64.manylinux2014_x86_64.whl (16.8 MB)\n",
      "Requirement already satisfied: setuptools>=18.0 in /home/ubuntu/.virtualenvs/build-torch/lib/python3.8/site-packages (from pycocotools==2.0.2->picsellia_yolov5) (60.6.0)\n",
      "Collecting ruamel.yaml.clib>=0.1.2\n",
      "  Downloading ruamel.yaml.clib-0.2.6-cp38-cp38-manylinux1_x86_64.whl (570 kB)\n",
      "\u001b[2K     \u001b[90m━━━━━━━━━━━━━━━━━━━━━━━━━━━━━━━━━━━━━━\u001b[0m \u001b[32m570.4/570.4 KB\u001b[0m \u001b[31m55.2 MB/s\u001b[0m eta \u001b[36m0:00:00\u001b[0m\n",
      "\u001b[?25hCollecting pytz>=2017.2\n",
      "  Using cached pytz-2021.3-py2.py3-none-any.whl (503 kB)\n",
      "Requirement already satisfied: wheel>=0.26 in /home/ubuntu/.virtualenvs/build-torch/lib/python3.8/site-packages (from tensorboard>=2.2->picsellia_yolov5) (0.37.1)\n",
      "Collecting google-auth<3,>=1.6.3\n",
      "  Using cached google_auth-2.6.0-py2.py3-none-any.whl (156 kB)\n",
      "Collecting markdown>=2.6.8\n",
      "  Using cached Markdown-3.3.6-py3-none-any.whl (97 kB)\n",
      "Collecting grpcio>=1.24.3\n",
      "  Using cached grpcio-1.44.0-cp38-cp38-manylinux_2_17_x86_64.manylinux2014_x86_64.whl (4.3 MB)\n",
      "Collecting absl-py>=0.4\n",
      "  Downloading absl_py-1.0.0-py3-none-any.whl (126 kB)\n",
      "\u001b[2K     \u001b[90m━━━━━━━━━━━━━━━━━━━━━━━━━━━━━━━━━━━━━━\u001b[0m \u001b[32m126.7/126.7 KB\u001b[0m \u001b[31m20.1 MB/s\u001b[0m eta \u001b[36m0:00:00\u001b[0m\n",
      "\u001b[?25hCollecting protobuf>=3.6.0\n",
      "  Using cached protobuf-3.19.4-cp38-cp38-manylinux_2_17_x86_64.manylinux2014_x86_64.whl (1.1 MB)\n",
      "Collecting requests<3,>=2.21.0\n",
      "  Using cached requests-2.27.1-py2.py3-none-any.whl (63 kB)\n",
      "Collecting tensorboard-data-server<0.7.0,>=0.6.0\n",
      "  Using cached tensorboard_data_server-0.6.1-py3-none-manylinux2010_x86_64.whl (4.9 MB)\n",
      "Collecting tensorboard-plugin-wit>=1.6.0\n",
      "  Using cached tensorboard_plugin_wit-1.8.1-py3-none-any.whl (781 kB)\n",
      "Collecting google-auth-oauthlib<0.5,>=0.4.1\n",
      "  Using cached google_auth_oauthlib-0.4.6-py2.py3-none-any.whl (18 kB)\n",
      "Collecting werkzeug>=0.11.15\n",
      "  Using cached Werkzeug-2.0.3-py3-none-any.whl (289 kB)\n",
      "Requirement already satisfied: typing-extensions in /home/ubuntu/.virtualenvs/build-torch/lib/python3.8/site-packages (from torch>=1.7.0->picsellia_yolov5) (4.1.1)\n",
      "Collecting cachetools<6.0,>=2.0.0\n",
      "  Using cached cachetools-5.0.0-py3-none-any.whl (9.1 kB)\n",
      "Collecting rsa<5,>=3.1.4\n",
      "  Using cached rsa-4.8-py3-none-any.whl (39 kB)\n",
      "Collecting pyasn1-modules>=0.2.1\n",
      "  Using cached pyasn1_modules-0.2.8-py2.py3-none-any.whl (155 kB)\n",
      "Collecting requests-oauthlib>=0.7.0\n",
      "  Using cached requests_oauthlib-1.3.1-py2.py3-none-any.whl (23 kB)\n",
      "Collecting importlib-metadata>=4.4\n",
      "  Using cached importlib_metadata-4.11.1-py3-none-any.whl (17 kB)\n",
      "Collecting charset-normalizer~=2.0.0\n",
      "  Using cached charset_normalizer-2.0.12-py3-none-any.whl (39 kB)\n",
      "Collecting urllib3<1.27,>=1.21.1\n",
      "  Using cached urllib3-1.26.8-py2.py3-none-any.whl (138 kB)\n",
      "Collecting certifi>=2017.4.17\n",
      "  Using cached certifi-2021.10.8-py2.py3-none-any.whl (149 kB)\n",
      "Collecting idna<4,>=2.5\n",
      "  Using cached idna-3.3-py3-none-any.whl (61 kB)\n",
      "Collecting zipp>=0.5\n",
      "  Using cached zipp-3.7.0-py3-none-any.whl (5.3 kB)\n",
      "Collecting pyasn1<0.5.0,>=0.4.6\n",
      "  Using cached pyasn1-0.4.8-py2.py3-none-any.whl (77 kB)\n",
      "Collecting oauthlib>=3.0.0\n",
      "  Using cached oauthlib-3.2.0-py3-none-any.whl (151 kB)\n",
      "Installing collected packages: tensorboard-plugin-wit, pytz, pyasn1, certifi, zipp, werkzeug, urllib3, tqdm, torch, tensorboard-data-server, ruamel.yaml.clib, rsa, PyYAML, pyparsing, pyasn1-modules, protobuf, pillow, oauthlib, numpy, kiwisolver, idna, grpcio, Cython, cycler, charset-normalizer, cachetools, absl-py, torchvision, thop, scipy, ruamel.yaml, requests, pandas, opencv-python, matplotlib, importlib-metadata, google-auth, seaborn, requests-oauthlib, pycocotools, markdown, lvis, google-auth-oauthlib, tensorboard, picsellia_yolov5\n",
      "Successfully installed Cython-0.29.21 PyYAML-6.0 absl-py-1.0.0 cachetools-5.0.0 certifi-2021.10.8 charset-normalizer-2.0.12 cycler-0.11.0 google-auth-2.6.0 google-auth-oauthlib-0.4.6 grpcio-1.44.0 idna-3.3 importlib-metadata-4.11.1 kiwisolver-1.3.2 lvis-0.5.3 markdown-3.3.6 matplotlib-3.3.4 numpy-1.22.2 oauthlib-3.2.0 opencv-python-4.5.5.62 pandas-1.1.5 picsellia_yolov5-0.1.9 pillow-7.2.0 protobuf-3.19.4 pyasn1-0.4.8 pyasn1-modules-0.2.8 pycocotools-2.0.2 pyparsing-3.0.7 pytz-2021.3 requests-2.27.1 requests-oauthlib-1.3.1 rsa-4.8 ruamel.yaml-0.16.13 ruamel.yaml.clib-0.2.6 scipy-1.4.1 seaborn-0.11.2 tensorboard-2.8.0 tensorboard-data-server-0.6.1 tensorboard-plugin-wit-1.8.1 thop-0.0.31.post2005241907 torch-1.10.2 torchvision-0.11.3 tqdm-4.62.3 urllib3-1.26.8 werkzeug-2.0.3 zipp-3.7.0\n",
      "Collecting picsellia\n",
      "  Downloading picsellia-5.1.2-py3-none-any.whl (65 kB)\n",
      "\u001b[2K     \u001b[90m━━━━━━━━━━━━━━━━━━━━━━━━━━━━━━━━━━━━━━━━\u001b[0m \u001b[32m65.2/65.2 KB\u001b[0m \u001b[31m13.7 MB/s\u001b[0m eta \u001b[36m0:00:00\u001b[0m\n",
      "\u001b[?25hCollecting beartype==0.9.1\n",
      "  Using cached beartype-0.9.1-py3-none-any.whl (524 kB)\n",
      "Collecting tqdm==4.62.2\n",
      "  Using cached tqdm-4.62.2-py2.py3-none-any.whl (76 kB)\n",
      "Collecting rich==11.2.0\n",
      "  Using cached rich-11.2.0-py3-none-any.whl (217 kB)\n",
      "Collecting requests==2.24.0\n",
      "  Using cached requests-2.24.0-py2.py3-none-any.whl (61 kB)\n",
      "Requirement already satisfied: Pillow==7.2.0 in /home/ubuntu/.virtualenvs/build-torch/lib/python3.8/site-packages (from picsellia) (7.2.0)\n",
      "Collecting idna<3,>=2.5\n",
      "  Using cached idna-2.10-py2.py3-none-any.whl (58 kB)\n",
      "Collecting chardet<4,>=3.0.2\n",
      "  Using cached chardet-3.0.4-py2.py3-none-any.whl (133 kB)\n",
      "Collecting urllib3!=1.25.0,!=1.25.1,<1.26,>=1.21.1\n",
      "  Using cached urllib3-1.25.11-py2.py3-none-any.whl (127 kB)\n",
      "Requirement already satisfied: certifi>=2017.4.17 in /home/ubuntu/.virtualenvs/build-torch/lib/python3.8/site-packages (from requests==2.24.0->picsellia) (2021.10.8)\n",
      "Collecting commonmark<0.10.0,>=0.9.0\n",
      "  Using cached commonmark-0.9.1-py2.py3-none-any.whl (51 kB)\n",
      "Collecting colorama<0.5.0,>=0.4.0\n",
      "  Using cached colorama-0.4.4-py2.py3-none-any.whl (16 kB)\n",
      "Requirement already satisfied: pygments<3.0.0,>=2.6.0 in /home/ubuntu/.virtualenvs/build-torch/lib/python3.8/site-packages (from rich==11.2.0->picsellia) (2.11.2)\n",
      "Installing collected packages: commonmark, chardet, urllib3, tqdm, idna, colorama, beartype, rich, requests, picsellia\n",
      "  Attempting uninstall: urllib3\n",
      "    Found existing installation: urllib3 1.26.8\n",
      "    Uninstalling urllib3-1.26.8:\n",
      "      Successfully uninstalled urllib3-1.26.8\n",
      "  Attempting uninstall: tqdm\n",
      "    Found existing installation: tqdm 4.62.3\n",
      "    Uninstalling tqdm-4.62.3:\n",
      "      Successfully uninstalled tqdm-4.62.3\n",
      "  Attempting uninstall: idna\n",
      "    Found existing installation: idna 3.3\n",
      "    Uninstalling idna-3.3:\n",
      "      Successfully uninstalled idna-3.3\n",
      "  Attempting uninstall: requests\n",
      "    Found existing installation: requests 2.27.1\n",
      "    Uninstalling requests-2.27.1:\n",
      "      Successfully uninstalled requests-2.27.1\n",
      "Successfully installed beartype-0.9.1 chardet-3.0.4 colorama-0.4.4 commonmark-0.9.1 idna-2.10 picsellia-5.1.2 requests-2.24.0 rich-11.2.0 tqdm-4.62.2 urllib3-1.25.11\n"
     ]
    }
   ],
   "source": [
    "!pip install picsellia_yolov5\n",
    "!pip install picsellia"
   ]
  },
  {
   "cell_type": "markdown",
   "metadata": {},
   "source": [
    "🥑 **Welcome To Picsellia Training Quickstart Notebook for YOLOv5** 🥑\n",
    "\n",
    "In this Notebook, you will see how to launch a YOLOv5 training from a created experiment on the Platform and log all the evaluation metrics to analyse your trained model.\n",
    "\n",
    "**Step 1, let's import our python SDK and our tensorflow2 wrapper** \n",
    "\n",
    "If you do not have our packages you can run: \n",
    "- `pip install picsellia picsellia_yolov5` \n",
    "\n",
    "\n",
    "> This notebook is an `easy mode` for YOLOv5 Training, you don't have to worry about nothing"
   ]
  },
  {
   "cell_type": "code",
   "execution_count": 1,
   "metadata": {},
   "outputs": [
    {
     "name": "stdout",
     "output_type": "stream",
     "text": [
      "Error while loading conf file for logging. No logging done.\n"
     ]
    }
   ],
   "source": [
    "from picsellia import Client\n",
    "from picsellia_yolov5.utils import to_yolo, find_matching_annotations, edit_model_yaml, generate_yaml, Opt, setup_hyp\n",
    "from picsellia_yolov5.utils import send_run_to_picsellia\n",
    "from picsellia_yolov5.yolov5.train import train"
   ]
  },
  {
   "cell_type": "markdown",
   "metadata": {},
   "source": [
    "**Step 2, fetch your experiment parameters and files from the Picsellia servers**\n",
    "\n",
    "Every experiment you make has an unique identifier allowing you to retrieve all the necessary informations with one command.\n",
    "\n",
    "By passing `tree` and `with_files` to True, you will automatically get a folder architecture like:\n",
    "\n",
    "- `experiment_name`/\n",
    "    - checkpoint/\n",
    "    - config/\n",
    "    - exported_model/\n",
    "    - images/\n",
    "    - metrics/\n",
    "    - records/\n",
    "    - results/"
   ]
  },
  {
   "cell_type": "code",
   "execution_count": null,
   "metadata": {},
   "outputs": [],
   "source": [
    "api_token = ''\n",
    "project_name = ''\n",
    "experiment_name = ''\n",
    "\n",
    "client = Client(\n",
    "    api_token=api_token,\n",
    "    organization=None # Set to an organization name if you want to checkout an other org.\n",
    ")\n",
    "\n",
    "project= client.get_project(project_name)\n",
    "\n",
    "experiment = project.get_experiment(\n",
    "    name=experiment_name, \n",
    "    tree=True, \n",
    "    with_file=True\n",
    ")"
   ]
  },
  {
   "cell_type": "markdown",
   "metadata": {},
   "source": [
    "**Step 3, Dataset fetching** \n",
    "\n",
    "Download all the necessary data for your training:\n",
    "- Dataset\n",
    "- Annotations\n",
    "\n",
    "Then generate the labelmap for your model, `labelmap` is needed for Picsellia to map your verbose labels *(i.e \"cat\", \"dog\", \"hot-dog\")* to your categorical labels *(i.e 1, 2, 3)*.\n",
    "\n",
    ">\n",
    "> You can find more info about the labelmap format [here](https://google.com)\n",
    ">\n",
    "\n",
    "Finally performing train-test-split to perform training, `train_test_split`  is recommended to be stored inside Picsellia, this way you will be able to access the validation interface and have full visibility over your training data 👊\n",
    "\n",
    "If you want to know more about our train_test_split format, here is the [documentation page](https://google.com)\n",
    "**(default repartition is 0.8 / 0.2 from train/test)**\n",
    "\n",
    "Once the train test set created, we send the repartition to Picsellia platform in order to visualize it later.\n"
   ]
  },
  {
   "cell_type": "code",
   "execution_count": null,
   "metadata": {},
   "outputs": [],
   "source": [
    "experiment.download_annotations()\n",
    "experiment.download_pictures()\n",
    "experiment.generate_labelmap()\n",
    "experiment.log('labelmap', experiment.label_map, 'labelmap', replace=True)\n",
    "\n",
    "YOLODIR = 'YOLO-{}'.format(experiment_name)\n",
    "train_set, test_set = to_yolo(pxl_annotations_dict=experiment.dict_annotations,labelmap=experiment.label_map, base_imgdir=experiment.png_dir, targetdir=YOLODIR, prop=0.7, copy_image=False) \n",
    "\n",
    "train_split = {\n",
    "    'x': train_set[\"categories\"],\n",
    "    'y': train_set[\"train_repartition\"],\n",
    "    'image_list': train_set[\"image_list\"],\n",
    "}\n",
    "experiment.log('train-split', train_split, 'bar', replace=True)\n",
    "\n",
    "test_split = {\n",
    "    'x': test_set[\"categories\"],\n",
    "    'y': test_set[\"train_repartition\"],\n",
    "    'image_list': test_set[\"image_list\"],\n",
    "}\n",
    "experiment.log('test-split', test_split, 'bar', replace=True)"
   ]
  },
  {
   "cell_type": "markdown",
   "metadata": {},
   "source": [
    "**Step 4, Pre-processing**\n",
    "\n",
    "We provide wrapper functions to generate the config `.yaml` file needed by YOLOv5 github repo.\n",
    "\n"
   ]
  },
  {
   "cell_type": "code",
   "execution_count": null,
   "metadata": {},
   "outputs": [],
   "source": [
    "generate_yaml(\n",
    "    yamlname=experiment_name,\n",
    "    targetdir=YOLODIR,\n",
    "    labelmap=experiment.label_map\n",
    ")\n",
    "cfg = edit_model_yaml(\n",
    "    label_map=experiment.label_map,\n",
    "    experiment_name=experiment_name,\n",
    "    config_path=experiment.config_dir\n",
    "\n",
    ")\n",
    "hyp, opt, device = setup_hyp(\n",
    "    experiment_name, \n",
    "    cfg,\n",
    "    experiment.checkpoint_dir,\n",
    "    experiment.get_log('parameters'),\n",
    "    experiment.label_map\n",
    ")"
   ]
  },
  {
   "cell_type": "markdown",
   "metadata": {},
   "source": [
    "**Step 5 - Launch training 🚀**"
   ]
  },
  {
   "cell_type": "code",
   "execution_count": null,
   "metadata": {},
   "outputs": [],
   "source": [
    "train(hyp, opt, opt.device, pxl=experiment)"
   ]
  },
  {
   "cell_type": "markdown",
   "metadata": {},
   "source": [
    "**Step 6 - Store your trained Model in Picsellia to use it later 🥑**"
   ]
  },
  {
   "cell_type": "code",
   "execution_count": null,
   "metadata": {},
   "outputs": [],
   "source": [
    "send_run_to_picsellia(experiment, YOLODIR)"
   ]
  }
 ],
 "metadata": {
  "interpreter": {
   "hash": "37893fbdeed58c473b2ed43fc8a6b66619286944a7160f289a229fff5cbf7832"
  },
  "kernelspec": {
   "display_name": "Python 3.8.10 ('build-torch')",
   "language": "python",
   "name": "python3"
  },
  "language_info": {
   "codemirror_mode": {
    "name": "ipython",
    "version": 3
   },
   "file_extension": ".py",
   "mimetype": "text/x-python",
   "name": "python",
   "nbconvert_exporter": "python",
   "pygments_lexer": "ipython3",
   "version": "3.8.10"
  },
  "orig_nbformat": 2
 },
 "nbformat": 4,
 "nbformat_minor": 2
}
