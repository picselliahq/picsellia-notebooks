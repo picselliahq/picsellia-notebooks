{
 "cells": [
  {
   "cell_type": "markdown",
   "metadata": {},
   "source": [
    "## This is an example on how to leverage Picsellia SDK and tensorflow 2 to train a simple Image Classifier \n",
    "\n",
    "We suppose that you did not trained a first classifier before and want to start from scratch !\n",
    "\n",
    "If you want to retrieve a trained model and start from it, please check [this notebook](https://google.com)"
   ]
  },
  {
   "cell_type": "code",
   "execution_count": null,
   "metadata": {},
   "outputs": [],
   "source": [
    "from picsellia import Client \n",
    "import matplotlib.pyplot as plt\n",
    "import numpy as np\n",
    "import os\n",
    "import tensorflow as tf\n",
    "from tensorflow.keras.preprocessing import image_dataset_from_directory\n",
    "from tensorflow.keras.callbacks import Callback\n",
    "from sklearn.metrics import classification_report, confusion_matrix\n"
   ]
  },
  {
   "cell_type": "markdown",
   "metadata": {},
   "source": [
    "### Pre-requisite \n",
    "\n",
    "🥑 In order to use this notebook, you need to have a **classification dataset in Picsellia** and a **Project** to encapsulate your experiments.\n",
    "\n",
    "  - You can learn how to create a Dataset [with the Platform](https://documentation.picsellia.com/docs/create-a-dataset) or [with code](https://documentation.picsellia.com/recipes/upload-local-data-to-a-dataset) \n",
    "\n",
    "  - Learn how to create a Project and attach dataset [with the Platform](https://documentation.picsellia.com/reference/client#create_project)\n",
    "  \n",
    "  - You can find your API Token [here](https://app.picsellia.com/profile#token)\n"
   ]
  },
  {
   "cell_type": "code",
   "execution_count": null,
   "metadata": {},
   "outputs": [],
   "source": [
    "PICSELLIA_API_TOKEN = \"\" \n",
    "project_name = \"\"\n",
    "dataset_name = \"\"\n",
    "dataset_version = None\n",
    "experiment_name = \"my-first-classification-experiment\""
   ]
  },
  {
   "cell_type": "markdown",
   "metadata": {},
   "source": [
    "#### 1 - Let's Initialize Picsellia Client and fetch your project and your dataset"
   ]
  },
  {
   "cell_type": "code",
   "execution_count": null,
   "metadata": {},
   "outputs": [],
   "source": [
    "client = Client(\n",
    "    api_token=PICSELLIA_API_TOKEN,\n",
    ")\n",
    "\n",
    "project = client.get_project(\n",
    "    name=project_name\n",
    ")\n",
    "\n",
    "dataset = client.get_dataset(\n",
    "    name=dataset_name,\n",
    "    version=dataset_version\n",
    ")"
   ]
  },
  {
   "cell_type": "markdown",
   "metadata": {},
   "source": [
    "#### 2 - Initialize your experiment in order to store and log everything to Picsellia 🥑"
   ]
  },
  {
   "cell_type": "code",
   "execution_count": null,
   "metadata": {},
   "outputs": [],
   "source": [
    "experiment = project.create_experiment(\n",
    "    name=experiment_name,\n",
    "    description=\"First experiment with Image Classification, created by the showcase notebook.\",\n",
    "    dataset=dataset,\n",
    ")\n",
    "print(experiment)"
   ]
  },
  {
   "cell_type": "markdown",
   "metadata": {},
   "source": [
    "#### 3 - Download your Dataset and create the train-test split repartition 📚\n",
    "\n",
    "`train_test_split`  is recommended to be stored inside Picsellia, this way you will be able to access the validation interface and have full visibility over your training data 👊\n",
    "\n",
    "If you want to know more about our train_test_split format, here is the [documentation page](https://google.com)\n",
    "\n",
    "\n",
    "⚠️ You need to download annotations first to download the pictures."
   ]
  },
  {
   "cell_type": "code",
   "execution_count": null,
   "metadata": {},
   "outputs": [],
   "source": [
    "experiment.dl_annotation()\n",
    "experiment.dl_picures()\n",
    "experiment.train_test_split(prop=0.8)\n",
    "\n",
    "train_split = {\n",
    "    \"x\": experiment.categories,\n",
    "    \"y\": experiment.train_repartition,\n",
    "    \"image_list\": experiment.train_list_id\n",
    "}\n",
    "test_split = {\n",
    "    'x': experiment.categories,\n",
    "    'y': experiment.test_repartition,\n",
    "    'image_list': experiment.eval_list_id\n",
    "}\n",
    "\n",
    "experiment.log(\n",
    "    name=\"train-split\",\n",
    "    data=train_split,\n",
    "    type=\"bar\",\n",
    "    replace=True\n",
    ")\n",
    "\n",
    "experiment.log(\n",
    "    name=\"test-split\",\n",
    "    data=test_split,\n",
    "    type=\"bar\",\n",
    "    replace=True\n",
    ")\n"
   ]
  },
  {
   "cell_type": "markdown",
   "metadata": {},
   "source": [
    "#### 4 - Create the Labelmap to and create the right folder tree\n",
    "\n",
    "`labelmap` is needed for Picsellia to map your verbose labels *(i.e \"cat\", \"dog\", \"hot-dog\")* to your categorical labels *(i.e 1, 2, 3)*.\n",
    "\n",
    "-> You can find more info about the labelmap format [here](https://google.com)"
   ]
  },
  {
   "cell_type": "code",
   "execution_count": null,
   "metadata": {},
   "outputs": [],
   "source": [
    "labels_index = [e for e in range(1, len(experiment.categories)+1)]\n",
    "\n",
    "labelmap = dict(zip(labels_index, experiment.categories))\n",
    "\n",
    "experiment.log(\n",
    "    name='labelmap', \n",
    "    data=labelmap, \n",
    "    type='labelmap', \n",
    "    replace=True\n",
    ")\n",
    "\n",
    "splits = [\"train\", \"validation\"]\n",
    "\n",
    "for split in splits:\n",
    "    if not split in os.listdir(\"images\"):\n",
    "        os.mkdir(os.path.join(\"images\", split))\n",
    "    for category in experiment.categories:\n",
    "        dirpath = os.path.join(\"images\", split)\n",
    "        if not os.path.isdir(dirpath):\n",
    "            os.mkdir(dirpath)"
   ]
  },
  {
   "cell_type": "markdown",
   "metadata": {},
   "source": [
    "### 5 - Let's move your pictures to the right folders"
   ]
  },
  {
   "cell_type": "code",
   "execution_count": null,
   "metadata": {},
   "outputs": [],
   "source": [
    "train_dir = \"images/train\"\n",
    "validation_dir = \"images/validation\"\n",
    "\n",
    "for image in experiment.dict_annotations[\"annotations\"]:\n",
    "    label = image[\"annotations\"][0][\"label\"]\n",
    "    image_id = image[\"internal_picture_id\"]\n",
    "    filename = image[\"external_picture_url\"]\n",
    "    if image_id in experiment.train_list_id:\n",
    "        os.rename(os.path.join('images', filename), os.path.join(train_dir, label, filename))\n",
    "    elif image_id in experiment.eval_list_id:\n",
    "        os.rename(os.path.join('images', filename), os.path.join(validation_dir, label, filename))"
   ]
  },
  {
   "cell_type": "markdown",
   "metadata": {},
   "source": [
    "### 6 - Let's create the parameters for your training and send it to Picsellia to retrieve and visualize it on the Platform\n",
    "\n",
    "🥑 We are also going to create the Dataset from folder thanks to keras method `image_dataset_from_directory()`"
   ]
  },
  {
   "cell_type": "code",
   "execution_count": null,
   "metadata": {},
   "outputs": [],
   "source": [
    "parameters = {\n",
    "    \"batch_size\": 4, # You can increase it :D\n",
    "    \"image_size\": 64, # We are going to resize the picture 64 x 64\n",
    "    \"learning_rate\": 1e5\n",
    "}\n",
    "\n",
    "experiment.log(\n",
    "    name=\"parameters\",\n",
    "    data=parameters,\n",
    "    type=\"table\",\n",
    "    replace=True\n",
    ")\n",
    "\n",
    "train_dataset = image_dataset_from_directory(\n",
    "    directory=train_dir,\n",
    "    shuffle=True,\n",
    "    batch_size=parameters[\"batch_size\"],\n",
    "    image_size=(parameters[\"image_size\"], parameters[\"image_size\"])\n",
    ")\n",
    "\n",
    "validation_dataset = image_dataset_from_directory(\n",
    "    directory=validation_dir,\n",
    "    shuffle=True,\n",
    "    batch_size=parameters[\"batch_size\"],\n",
    "    image_size=(parameters[\"image_size\"], parameters[\"image_size\"])\n",
    ")"
   ]
  },
  {
   "cell_type": "markdown",
   "metadata": {},
   "source": [
    "### 7 - Let's visualize some Images and Labels to check everything is okk 😄"
   ]
  },
  {
   "cell_type": "code",
   "execution_count": null,
   "metadata": {},
   "outputs": [],
   "source": [
    "plt.figure(figsize=(10, 10))\n",
    "for images, labels in train_dataset.take(1):\n",
    "  for i in range(9):\n",
    "    ax = plt.subplot(3, 3, i + 1)\n",
    "    plt.imshow(images[i].numpy().astype(\"uint8\"))\n",
    "    plt.title(train_dataset.class_names[labels[i]])\n",
    "    plt.axis(\"off\")"
   ]
  },
  {
   "cell_type": "markdown",
   "metadata": {},
   "source": [
    "#### 8 - Create your Test Dataset and make batches for training "
   ]
  },
  {
   "cell_type": "code",
   "execution_count": null,
   "metadata": {},
   "outputs": [],
   "source": [
    "val_batches = tf.data.experimental.cardinality(validation_dataset)\n",
    "test_dataset = validation_dataset.take(val_batches // 5)\n",
    "validation_dataset = validation_dataset.skip(val_batches // 5)\n",
    "\n",
    "# Let's be really sure that it's alright :D\n",
    "\n",
    "print('Number of validation batches: %d' % tf.data.experimental.cardinality(validation_dataset))\n",
    "print('Number of test batches: %d' % tf.data.experimental.cardinality(test_dataset))"
   ]
  },
  {
   "cell_type": "markdown",
   "metadata": {},
   "source": [
    "#### 9 - Configure your Dataset TF config and perform data augmentation 🤔"
   ]
  },
  {
   "cell_type": "code",
   "execution_count": null,
   "metadata": {},
   "outputs": [],
   "source": [
    "AUTOTUNE = tf.data.AUTOTUNE\n",
    "\n",
    "train_dataset = train_dataset.prefetch(buffer_size=AUTOTUNE)\n",
    "validation_dataset = validation_dataset.prefetch(buffer_size=AUTOTUNE)\n",
    "test_dataset = test_dataset.prefetch(buffer_size=AUTOTUNE)\n",
    "\n",
    "data_augmentation = tf.keras.Sequential([\n",
    "  tf.keras.layers.experimental.preprocessing.RandomFlip('horizontal'),\n",
    "  tf.keras.layers.experimental.preprocessing.RandomRotation(0.2),\n",
    "])\n",
    "\n",
    "for image, _ in train_dataset.take(1):\n",
    "  plt.figure(figsize=(10, 10))\n",
    "  first_image = image[0]\n",
    "  for i in range(9):\n",
    "    ax = plt.subplot(3, 3, i + 1)\n",
    "    augmented_image = data_augmentation(tf.expand_dims(first_image, 0))\n",
    "    plt.imshow(augmented_image[0] / 255)\n",
    "    plt.title(train_dataset.class_names[labels[i]])\n",
    "    plt.axis('off')"
   ]
  },
  {
   "cell_type": "markdown",
   "metadata": {},
   "source": [
    "#### 10 - Preprocess your Images (rescaling) and define the PicselliaLogger Callback to see your training in real-time 🔬"
   ]
  },
  {
   "cell_type": "code",
   "execution_count": null,
   "metadata": {},
   "outputs": [],
   "source": [
    "preprocess_input = tf.keras.applications.mobilenet_v2.preprocess_input\n",
    "rescale = tf.keras.layers.experimental.preprocessing.Rescaling(1./127.5, offset= -1)\n",
    "IMG_SHAPE = parameters[\"image_size\"] + (3,)\n",
    "\n",
    "\n",
    "class PicselliaLogger(Callback):\n",
    "\n",
    "    def on_epoch_end(self, epoch, logs={}):\n",
    "        for log_name, log_value in logs.items():\n",
    "            experiment.log(log_name, [float(log_value)], 'line')\n",
    "\n",
    "callback_list = [PicselliaLogger()]"
   ]
  },
  {
   "cell_type": "markdown",
   "metadata": {},
   "source": [
    "#### 11 - Define your Classification Model \n",
    "\n",
    "**You will create the base model from the MobileNet V2** model developed at Google. \n",
    "\n",
    "First, you need to pick which layer of MobileNet V2 you will use for feature extraction. The very last classification layer (on \"top\", as most diagrams of machine learning models go from bottom to top) is not very useful. \n",
    "Instead, you will follow the common practice to depend on the very last layer before the flatten operation. This layer is called the *\"bottleneck layer\"*. The bottleneck layer features retain more generality as compared to the final/top layer.\n",
    "\n",
    "First, instantiate a MobileNet V2 model pre-loaded with weights trained on ImageNet. By specifying the include_top=False argument, you load a network that doesn't include the classification layers at the top, which is ideal for feature extraction.\n",
    "\n",
    "If you want more information about the model used, please check [Keras documentation](https://keras.io/api/applications/mobilenet/#mobilenetv2-function)"
   ]
  },
  {
   "cell_type": "code",
   "execution_count": null,
   "metadata": {},
   "outputs": [],
   "source": [
    "base_model = tf.keras.applications.MobileNetV2(\n",
    "    input_shape=IMG_SHAPE,\n",
    "    include_top=False,\n",
    "    weights=\"imagenet\",\n",
    ")\n",
    "base_model.trainable = False\n",
    "\n",
    "# Uncomment if you want a summary of all the layers :D\n",
    "# base_model.summary() \n",
    "\n",
    "image_batch, label_batch = next(iter(train_dataset))\n",
    "feature_batch = base_model(image_batch)"
   ]
  },
  {
   "cell_type": "markdown",
   "metadata": {},
   "source": [
    "#### 12 - Add a Classification head\n",
    "\n",
    "To generate predictions from the block of features, average over the spatial 5x5 spatial locations, using a tf.keras.layers.GlobalAveragePooling2D layer to convert the features to a single 1280-element vector per image.\n",
    "\n",
    "Then apply a tf.keras.layers.Dense layer to convert these features into a single prediction per image. You don't need an activation function here because this prediction will be treated as a logit, or a raw prediction value. Positive numbers predict class 1, negative numbers predict class 0."
   ]
  },
  {
   "cell_type": "code",
   "execution_count": null,
   "metadata": {},
   "outputs": [],
   "source": [
    "global_average_layer = tf.keras.layers.GlobalAveragePooling2D()\n",
    "feature_batch_average = global_average_layer(feature_batch)\n",
    "\n",
    "\n",
    "prediction_layer = tf.keras.layers.Dense(1)\n",
    "prediction_batch = prediction_layer(feature_batch_average)\n",
    "\n",
    "inputs = tf.keras.Input(shape=(parameters[\"image_size\"], parameters[\"image_size\"], 3))\n",
    "x = data_augmentation(inputs)\n",
    "x = preprocess_input(x)\n",
    "x = base_model(x, training=False)\n",
    "x = global_average_layer(x)\n",
    "x = tf.keras.layers.Dropout(0.2)(x)\n",
    "outputs = prediction_layer(x)\n",
    "model = tf.keras.Model(inputs, outputs)"
   ]
  },
  {
   "cell_type": "markdown",
   "metadata": {},
   "source": [
    "#### 13 - Compile the model and set it to optimize `accuracy` "
   ]
  },
  {
   "cell_type": "code",
   "execution_count": null,
   "metadata": {},
   "outputs": [],
   "source": [
    "base_learning_rate = parameters[\"learning_rate\"]\n",
    "model.compile(\n",
    "    optimizer=tf.keras.optimizers.Adam(lr=base_learning_rate),\n",
    "    loss=tf.keras.losses.CategoricalCrossentropy(),\n",
    "    metrics=['accuracy']\n",
    ")"
   ]
  },
  {
   "cell_type": "markdown",
   "metadata": {},
   "source": [
    "#### 14 - Launch training of the Dense Layers 🚀 \n",
    "\n",
    "You need to set the parameters `initial_epochs` to something between 100 and 1000, it's the number of epochs that you will train the Dense Layers alone. \n",
    "\n",
    "This parameter is important to store as it indicated how \"*long*\" you trained your Dense Layers alone before fine-tuning. So let's log it to picsellia :D"
   ]
  },
  {
   "cell_type": "code",
   "execution_count": null,
   "metadata": {},
   "outputs": [],
   "source": [
    "initial_epochs = 100 # Increase it for a real-world use-case\n",
    "parameters[\"initial_epochs\"] = initial_epochs\n",
    "experiment.log(\n",
    "    name=\"parameters\",\n",
    "    data=parameters,\n",
    "    type=\"table\",\n",
    "    replace=False\n",
    ")\n",
    "\n",
    "loss0, accuracy0 = model.evaluate(validation_dataset)\n",
    "print(\"Initial Loss: {:.2f}\".format(loss0))\n",
    "print(\"Initial Accuracy: {:.2f}\".format(accuracy0))\n",
    "history = model.fit(\n",
    "    x=train_dataset,\n",
    "    epochs=initial_epochs,\n",
    "    callbacks=callback_list,\n",
    "    validation_data=validation_dataset\n",
    ")"
   ]
  },
  {
   "cell_type": "markdown",
   "metadata": {},
   "source": [
    "#### 15 - Visualize your training / validation accuracy 📈"
   ]
  },
  {
   "cell_type": "code",
   "execution_count": null,
   "metadata": {},
   "outputs": [],
   "source": [
    "acc = history.history['accuracy']\n",
    "val_acc = history.history['val_accuracy']\n",
    "\n",
    "loss = history.history['loss']\n",
    "val_loss = history.history['val_loss']\n",
    "\n",
    "plt.figure(figsize=(8, 8))\n",
    "plt.subplot(2, 1, 1)\n",
    "plt.plot(acc, label='Training Accuracy')\n",
    "plt.plot(val_acc, label='Validation Accuracy')\n",
    "plt.legend(loc='lower right')\n",
    "plt.ylabel('Accuracy')\n",
    "plt.ylim([min(plt.ylim()),1])\n",
    "plt.title('Training and Validation Accuracy')\n",
    "\n",
    "plt.subplot(2, 1, 2)\n",
    "plt.plot(loss, label='Training Loss')\n",
    "plt.plot(val_loss, label='Validation Loss')\n",
    "plt.legend(loc='upper right')\n",
    "plt.ylabel('Cross Entropy')\n",
    "plt.ylim([0,1.0])\n",
    "plt.title('Training and Validation Loss')\n",
    "plt.xlabel('epoch')\n",
    "plt.show()"
   ]
  },
  {
   "cell_type": "markdown",
   "metadata": {},
   "source": [
    "#### 16 - Fine Tune the Top Layers of your models\n",
    "\n",
    "In the feature extraction experiment, you were only training a few layers on top of an MobileNet V2 base model. The weights of the pre-trained network were not updated during training.\n",
    "\n",
    "One way to increase performance even further is to train (or \"fine-tune\") the weights of the top layers of the pre-trained model alongside the training of the classifier you added. The training process will force the weights to be tuned from generic feature maps to features associated specifically with the dataset.\n",
    "\n",
    "Also, you should try to fine-tune a small number of top layers rather than the whole MobileNet model. In most convolutional networks, the higher up a layer is, the more specialized it is. The first few layers learn very simple and generic features that generalize to almost all types of images. As you go higher up, the features are increasingly more specific to the dataset on which the model was trained. The goal of fine-tuning is to adapt these specialized features to work with the new dataset, rather than overwrite the generic learning."
   ]
  },
  {
   "cell_type": "code",
   "execution_count": null,
   "metadata": {},
   "outputs": [],
   "source": [
    "base_model.trainable = True\n",
    "# Let's take a look to see how many layers are in the base model\n",
    "print(\"Number of layers in the base model: \", len(base_model.layers))\n",
    "\n",
    "# Fine-tune from this layer onwards\n",
    "fine_tune_at = 100\n",
    "\n",
    "# Freeze all the layers before the `fine_tune_at` layer\n",
    "for layer in base_model.layers[:fine_tune_at]:\n",
    "  layer.trainable =  False\n",
    "\n",
    "model.compile(\n",
    "    loss=tf.keras.losses.CategoricalCrossentropy(),\n",
    "    optimizer = tf.keras.optimizers.RMSprop(lr=base_learning_rate/10),\n",
    "    metrics=['accuracy']\n",
    ")\n",
    "\n",
    "fine_tune_epochs = 150 # Increase it for a real-world use-case :D\n",
    "parameters[\"fine_tune_epochs\"] = fine_tune_epochs\n",
    "experiment.log(\n",
    "    name=\"parameters\",\n",
    "    data=parameters,\n",
    "    type=\"table\",\n",
    "    replace=False\n",
    ")\n",
    "\n",
    "total_epochs =  initial_epochs + fine_tune_epochs\n",
    "\n",
    "history_fine = model.fit(\n",
    "    x=train_dataset,\n",
    "    epochs=total_epochs,\n",
    "    initial_epoch=history.epoch[-1],\n",
    "    callbacks=callback_list,\n",
    "    validation_data=validation_dataset\n",
    ")"
   ]
  },
  {
   "cell_type": "markdown",
   "metadata": {},
   "source": [
    "#### 17 - Store your trained Model in Picsellia to use it later 🥑"
   ]
  },
  {
   "cell_type": "code",
   "execution_count": null,
   "metadata": {},
   "outputs": [],
   "source": [
    "models_dir = os.path.join(experiment.base_dir, 'models')\n",
    "tf.saved_model.save(model, os.path.join(models_dir, 'saved_model'))\n",
    "model.save(os.path.join(models_dir, 'keras_model', 'model.h5'))\n",
    "experiment.store(\"keras_model\", os.path.join(models_dir, 'keras_model','model.h5'))\n",
    "experiment.store(\"model-latest\", os.path.join(models_dir, 'saved_model'), zip=True)"
   ]
  },
  {
   "cell_type": "markdown",
   "metadata": {},
   "source": [
    "#### 18 - Perform Evaluation on your validation dataset and send it to Picsellia to visualize it interactively 🥑"
   ]
  },
  {
   "cell_type": "code",
   "execution_count": null,
   "metadata": {},
   "outputs": [],
   "source": [
    "y_true = []\n",
    "y_pred = []\n",
    "for i in range(len(validation_dataset)):\n",
    "    image_batch, label_batch = validation_dataset.as_numpy_iterator().next()\n",
    "    predictions = model.predict_on_batch(image_batch).flatten()\n",
    "    # Apply a sigmoid since our model returns logits\n",
    "    predictions = tf.nn.sigmoid(predictions)\n",
    "    predictions = tf.where(predictions < 0.5, 0, 1)\n",
    "    y_true.extend(label_batch)\n",
    "    y_pred.extend(predictions.numpy())\n",
    "\n",
    "confusion_matrix = {\n",
    "    'categories': experiment.categories,\n",
    "    'values': confusion_matrix(y_true, y_pred).tolist()\n",
    "}\n",
    "experiment.log('confusion-matrix', confusion_matrix, 'heatmap')\n",
    "\n",
    "# We set a parameters `fine_tune` to True to access it and directly perform fine-tuning without training the first layers next time\n",
    "parameters[\"fine_tune\"] = True\n",
    "experiment.log(\n",
    "    name=\"parameters\",\n",
    "    data=parameters,\n",
    "    type=\"table\",\n",
    "    replace=False\n",
    ")\n",
    "\n",
    "experiment.update(status=\"success\")\n",
    "\n",
    "print(\n",
    "    \"\"\"You visualize all your results on Picsellia Reports page :\\n\n",
    "    -> https://app.picsellia.com/{}/experiment/{}/{}/overview\n",
    "        \"\"\".format(client.organization.id, project.id, experiment.id)\n",
    ")\n"
   ]
  }
 ],
 "metadata": {
  "interpreter": {
   "hash": "bdd4d761b3687164f35784ad77c96006b692f6b1f4aeee03120964de752b938f"
  },
  "kernelspec": {
   "display_name": "Python 3.6.13 64-bit ('platform': conda)",
   "language": "python",
   "name": "python3"
  },
  "language_info": {
   "name": "python",
   "version": "3.6.13"
  },
  "orig_nbformat": 4
 },
 "nbformat": 4,
 "nbformat_minor": 2
}
